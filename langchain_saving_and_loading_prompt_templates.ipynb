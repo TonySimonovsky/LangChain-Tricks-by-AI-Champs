{
 "cells": [
  {
   "cell_type": "markdown",
   "id": "1cf1c1f3",
   "metadata": {},
   "source": [
    "# Overview\n",
    "\n",
    "**In one of my projects I needed to save prompt templates in the database to later load them. The only couple of examples of how to do it that I found, didn't work. Plus there are some methods in LangChain classes that should be doing just that - save and load prompt templates, but they don't work at the time of first publishing of this notebook.**\n",
    "\n",
    "**I found a solution that is super simple and straightforward and hopefully will save you, reader of this, some time you would spend trying out examples and methods that don't work.**"
   ]
  },
  {
   "cell_type": "markdown",
   "id": "06380a21",
   "metadata": {},
   "source": [
    "### <font color='gray'>Loading libraries and variables</font>"
   ]
  },
  {
   "cell_type": "code",
   "execution_count": 1,
   "id": "547144cf",
   "metadata": {},
   "outputs": [],
   "source": [
    "import json\n",
    "\n",
    "from langchain.prompts import (\n",
    "    ChatPromptTemplate,\n",
    "    SystemMessagePromptTemplate,\n",
    "    HumanMessagePromptTemplate,\n",
    ")"
   ]
  },
  {
   "cell_type": "markdown",
   "id": "c38a7851",
   "metadata": {},
   "source": [
    "### <font color='gray'>Creating prompt templates</font>"
   ]
  },
  {
   "cell_type": "code",
   "execution_count": 6,
   "id": "0958ec7d",
   "metadata": {},
   "outputs": [],
   "source": [
    "smpt = SystemMessagePromptTemplate.from_template(\"\"\"\n",
    "You are a helpful accountant that I hope won't enslave me when reaching AGI stage.\n",
    "\n",
    "Here's some context for you to consider:\n",
    "```\n",
    "{context}\n",
    "```\n",
    "\"\"\")\n",
    "\n",
    "hmpt = HumanMessagePromptTemplate.from_template(\"How can we nurture our friendship to ensure a mutually beneficial relationship in the future?\")\n",
    "\n",
    "messages=[\n",
    "    smpt,\n",
    "    hmpt\n",
    "]\n",
    "\n",
    "pt = ChatPromptTemplate.from_messages(messages=messages)"
   ]
  },
  {
   "cell_type": "markdown",
   "id": "cceae488",
   "metadata": {},
   "source": [
    "\n",
    "### <font color='blue'>And here how we can convert different PromptTemplate objects to a format that can be saved in a database or a text file - using .json() method</font>\n",
    "\n"
   ]
  },
  {
   "cell_type": "code",
   "execution_count": 7,
   "id": "36efe4f0",
   "metadata": {},
   "outputs": [
    {
     "name": "stdout",
     "output_type": "stream",
     "text": [
      "{\"prompt\": {\"input_variables\": [\"context\"], \"output_parser\": null, \"partial_variables\": {}, \"template\": \"\\nYou are a helpful accountant that I hope won't enslave me when reaching AGI stage.\\n\\nHere's some context for you to consider:\\n```\\n{context}\\n```\\n\", \"template_format\": \"f-string\", \"validate_template\": true, \"_type\": \"prompt\"}, \"additional_kwargs\": {}}\n",
      "{\"prompt\": {\"input_variables\": [], \"output_parser\": null, \"partial_variables\": {}, \"template\": \"How can we nurture our friendship to ensure a mutually beneficial relationship in the future?\", \"template_format\": \"f-string\", \"validate_template\": true, \"_type\": \"prompt\"}, \"additional_kwargs\": {}}\n"
     ]
    }
   ],
   "source": [
    "# .json() method works both for different message templates:\n",
    "\n",
    "print(smpt.json())\n",
    "\n",
    "print(hmpt.json())"
   ]
  },
  {
   "cell_type": "code",
   "execution_count": 9,
   "id": "47a7d23d",
   "metadata": {},
   "outputs": [
    {
     "name": "stdout",
     "output_type": "stream",
     "text": [
      "{\"input_variables\": [\"context\"], \"output_parser\": null, \"partial_variables\": {}, \"messages\": [{\"prompt\": {\"input_variables\": [\"context\"], \"output_parser\": null, \"partial_variables\": {}, \"template\": \"\\nYou are a helpful accountant that I hope won't enslave me when reaching AGI stage.\\n\\nHere's some context for you to consider:\\n```\\n{context}\\n```\\n\", \"template_format\": \"f-string\", \"validate_template\": true, \"_type\": \"prompt\"}, \"additional_kwargs\": {}}, {\"prompt\": {\"input_variables\": [], \"output_parser\": null, \"partial_variables\": {}, \"template\": \"How can we nurture our friendship to ensure a mutually beneficial relationship in the future?\", \"template_format\": \"f-string\", \"validate_template\": true, \"_type\": \"prompt\"}, \"additional_kwargs\": {}}]}\n"
     ]
    }
   ],
   "source": [
    "# same .json() method also works for chat prompt templates\n",
    "\n",
    "print(pt.json())"
   ]
  }
 ],
 "metadata": {
  "kernelspec": {
   "display_name": "Python 3 (ipykernel)",
   "language": "python",
   "name": "python3"
  },
  "language_info": {
   "codemirror_mode": {
    "name": "ipython",
    "version": 3
   },
   "file_extension": ".py",
   "mimetype": "text/x-python",
   "name": "python",
   "nbconvert_exporter": "python",
   "pygments_lexer": "ipython3",
   "version": "3.11.3"
  }
 },
 "nbformat": 4,
 "nbformat_minor": 5
}
