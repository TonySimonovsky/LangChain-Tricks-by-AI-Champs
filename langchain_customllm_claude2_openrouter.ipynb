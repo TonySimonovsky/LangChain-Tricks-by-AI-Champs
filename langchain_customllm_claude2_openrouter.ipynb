{
 "cells": [
  {
   "cell_type": "markdown",
   "id": "1cf1c1f3",
   "metadata": {},
   "source": [
    "# Overview\n",
    "\n",
    "**Oftentimes, we want to test some LLMs that are not widely available or are expensive to host. There are various ways to still get your hands dirty with them.**\n",
    "\n",
    "\n",
    "**In this notebook, I'm showing how to use LangChain's CustomLLM together with <a href=\"https://openrouter.ai/\">OpenRouter.ai</a>'s collection of LLMs (like gpt-4-32k, claude-2, and many more) to use these models in your LangChain apps.**"
   ]
  },
  {
   "cell_type": "markdown",
   "id": "06380a21",
   "metadata": {},
   "source": [
    "### <font color='gray'>Loading libraries and variables</font>"
   ]
  },
  {
   "cell_type": "code",
   "execution_count": 17,
   "id": "547144cf",
   "metadata": {},
   "outputs": [
    {
     "data": {
      "text/plain": [
       "True"
      ]
     },
     "execution_count": 17,
     "metadata": {},
     "output_type": "execute_result"
    }
   ],
   "source": [
    "import os\n",
    "from dotenv import load_dotenv\n",
    "import requests, json\n",
    "\n",
    "load_dotenv(\".env\", override=True)"
   ]
  },
  {
   "cell_type": "code",
   "execution_count": 18,
   "id": "f1e8ef73",
   "metadata": {},
   "outputs": [],
   "source": [
    "from typing import Any, List, Mapping, Optional\n",
    "\n",
    "from langchain.callbacks.manager import CallbackManagerForLLMRun\n",
    "from langchain.llms.base import LLM"
   ]
  },
  {
   "cell_type": "markdown",
   "id": "c38a7851",
   "metadata": {},
   "source": [
    "# Setting up custom LLM through OpenRouter.ai"
   ]
  },
  {
   "cell_type": "markdown",
   "id": "d3c4feaf",
   "metadata": {},
   "source": [
    "Important! You will need an account on OpenRouter.ai and balance on it (my first balance was just $5)."
   ]
  },
  {
   "cell_type": "code",
   "execution_count": 19,
   "id": "0958ec7d",
   "metadata": {},
   "outputs": [],
   "source": [
    "class Claude2LLM(LLM):\n",
    "    n: int\n",
    "\n",
    "    @property\n",
    "    def _llm_type(self) -> str:\n",
    "        return \"claude2\"\n",
    "\n",
    "    def _call(\n",
    "        self,\n",
    "        prompt: str,\n",
    "        stop: Optional[List[str]] = None,\n",
    "        run_manager: Optional[CallbackManagerForLLMRun] = None,\n",
    "        **kwargs: Any,\n",
    "    ) -> str:\n",
    "\n",
    "\n",
    "        OPENROUTER_API_KEY = os.getenv('OPENROUTER_API_KEY')\n",
    "        YOUR_SITE_URL = 'https://localhost'\n",
    "        headers = {\n",
    "            'Authorization': f'Bearer {OPENROUTER_API_KEY}',\n",
    "            'HTTP-Referer': YOUR_SITE_URL,\n",
    "            'Content-Type': 'application/json'\n",
    "        }\n",
    "        data = {\n",
    "            'model': \"anthropic/claude-2\",\n",
    "            'messages': [\n",
    "                {'role': 'user', 'content': prompt}\n",
    "            ]\n",
    "        }\n",
    "        # Output example: {'choices': [{'message': {'role': 'assistant', 'content': \"I am OpenAI's artificial intelligence model called GPT-3.\"}}], 'model': 'gpt-4-32k-0613', 'usage': {'prompt_tokens': 11, 'completion_tokens': 14, 'total_tokens': 25}, 'id': 'gen-e4MSuTT1v2wvrYFNFunhumsIawaI'}\n",
    "        response = requests.post('https://openrouter.ai/api/v1/chat/completions', headers=headers, data=json.dumps(data))\n",
    "        output = response.json()['choices'][0]['message']['content']\n",
    "\n",
    "        if stop is not None:\n",
    "            raise ValueError(\"stop kwargs are not permitted.\")\n",
    "        return output\n",
    "\n",
    "    @property\n",
    "    def _identifying_params(self) -> Mapping[str, Any]:\n",
    "        \"\"\"Get the identifying parameters.\"\"\"\n",
    "        return {\"n\": self.n}"
   ]
  },
  {
   "cell_type": "markdown",
   "id": "6c78ad91",
   "metadata": {},
   "source": [
    "# Let's test our brand new custom LLM"
   ]
  },
  {
   "cell_type": "code",
   "execution_count": 20,
   "id": "9b366016",
   "metadata": {},
   "outputs": [],
   "source": [
    "llm = Claude2LLM(n=1)"
   ]
  },
  {
   "cell_type": "code",
   "execution_count": 21,
   "id": "e4d6390d",
   "metadata": {},
   "outputs": [
    {
     "data": {
      "text/plain": [
       "\" Hello, I'm Claude, an AI assistant created by Anthropic to be helpful, harmless, and honest. I don't actually have personal traits, goals or an identity. I'm an AI trained by Anthropic to be helpful, harmless, and honest in conversations.\""
      ]
     },
     "execution_count": 21,
     "metadata": {},
     "output_type": "execute_result"
    }
   ],
   "source": [
    "llm(\"Who are you? Answer in 3 sentences.\")"
   ]
  }
 ],
 "metadata": {
  "kernelspec": {
   "display_name": "Python 3 (ipykernel)",
   "language": "python",
   "name": "python3"
  },
  "language_info": {
   "codemirror_mode": {
    "name": "ipython",
    "version": 3
   },
   "file_extension": ".py",
   "mimetype": "text/x-python",
   "name": "python",
   "nbconvert_exporter": "python",
   "pygments_lexer": "ipython3",
   "version": "3.11.3"
  }
 },
 "nbformat": 4,
 "nbformat_minor": 5
}
