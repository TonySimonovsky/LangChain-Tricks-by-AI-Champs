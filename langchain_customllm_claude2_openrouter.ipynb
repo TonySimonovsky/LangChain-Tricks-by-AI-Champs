{
 "cells": [
  {
   "cell_type": "markdown",
   "id": "1cf1c1f3",
   "metadata": {},
   "source": [
    "# Overview\n",
    "\n",
    "**Oftentimes, we want to test some LLMs that are not widely available or are expensive to host. There are various ways to still get your hands dirty with them.**\n",
    "\n",
    "\n",
    "**In this notebook, I'm showing how to use LangChain's CustomLLM together with <a href=\"https://openrouter.ai/\">OpenRouter.ai</a>'s collection of LLMs (like gpt-4-32k, claude-2, and many more) to use these models in your LangChain apps.**"
   ]
  },
  {
   "cell_type": "markdown",
   "id": "06380a21",
   "metadata": {},
   "source": [
    "### <font color='gray'>Loading libraries and variables</font>"
   ]
  },
  {
   "cell_type": "code",
   "execution_count": 7,
   "id": "547144cf",
   "metadata": {},
   "outputs": [
    {
     "data": {
      "text/plain": [
       "True"
      ]
     },
     "execution_count": 7,
     "metadata": {},
     "output_type": "execute_result"
    }
   ],
   "source": [
    "import os\n",
    "from dotenv import load_dotenv\n",
    "import requests, json\n",
    "\n",
    "load_dotenv(\".env\", override=True)"
   ]
  },
  {
   "cell_type": "code",
   "execution_count": 1,
   "id": "f6e724c4",
   "metadata": {},
   "outputs": [],
   "source": [
    "from typing import Any, List, Mapping, Optional\n",
    "\n",
    "from langchain.callbacks.manager import CallbackManagerForLLMRun\n",
    "from langchain.llms.base import LLM"
   ]
  },
  {
   "cell_type": "markdown",
   "id": "c38a7851",
   "metadata": {},
   "source": [
    "# Setting up custom LLM through OpenRouter.ai"
   ]
  },
  {
   "cell_type": "markdown",
   "id": "a07194cd",
   "metadata": {},
   "source": [
    "Important! You will need an account on OpenRouter.ai and balance on it (my first balance was just $5)."
   ]
  },
  {
   "cell_type": "code",
   "execution_count": 13,
   "id": "0958ec7d",
   "metadata": {},
   "outputs": [],
   "source": [
    "class Claude2LLM(LLM):\n",
    "    n: int\n",
    "\n",
    "    @property\n",
    "    def _llm_type(self) -> str:\n",
    "        return \"claude2\"\n",
    "\n",
    "    def _call(\n",
    "        self,\n",
    "        prompt: str,\n",
    "        stop: Optional[List[str]] = None,\n",
    "        run_manager: Optional[CallbackManagerForLLMRun] = None,\n",
    "        **kwargs: Any,\n",
    "    ) -> str:\n",
    "\n",
    "\n",
    "        OPENROUTER_API_KEY = os.getenv('OPENROUTER_API_KEY')\n",
    "        YOUR_SITE_URL = 'https://localhost'\n",
    "        headers = {\n",
    "            'Authorization': f'Bearer {OPENROUTER_API_KEY}',\n",
    "            'HTTP-Referer': YOUR_SITE_URL,\n",
    "            'Content-Type': 'application/json'\n",
    "        }\n",
    "        data = {\n",
    "            'model': \"anthropic/claude-2\",\n",
    "            'messages': [\n",
    "                {'role': 'user', 'content': prompt}\n",
    "            ]\n",
    "        }\n",
    "        # Output example: {'choices': [{'message': {'role': 'assistant', 'content': \"I am OpenAI's artificial intelligence model called GPT-3.\"}}], 'model': 'gpt-4-32k-0613', 'usage': {'prompt_tokens': 11, 'completion_tokens': 14, 'total_tokens': 25}, 'id': 'gen-e4MSuTT1v2wvrYFNFunhumsIawaI'}\n",
    "        response = requests.post('https://openrouter.ai/api/v1/chat/completions', headers=headers, data=json.dumps(data))\n",
    "        output = response.json()['choices'][0]['message']['content']\n",
    "\n",
    "        if stop is not None:\n",
    "            raise ValueError(\"stop kwargs are not permitted.\")\n",
    "        return output\n",
    "\n",
    "    @property\n",
    "    def _identifying_params(self) -> Mapping[str, Any]:\n",
    "        \"\"\"Get the identifying parameters.\"\"\"\n",
    "        return {\"temperature\": self.temperature}"
   ]
  },
  {
   "cell_type": "markdown",
   "id": "f7ee5db1",
   "metadata": {},
   "source": [
    "# Let's test our brand new custom LLM"
   ]
  },
  {
   "cell_type": "code",
   "execution_count": 14,
   "id": "f953c1d0",
   "metadata": {},
   "outputs": [
    {
     "ename": "ValidationError",
     "evalue": "1 validation error for Claude2LLM\nn\n  field required (type=value_error.missing)",
     "output_type": "error",
     "traceback": [
      "\u001b[0;31m---------------------------------------------------------------------------\u001b[0m",
      "\u001b[0;31mValidationError\u001b[0m                           Traceback (most recent call last)",
      "Cell \u001b[0;32mIn[14], line 1\u001b[0m\n\u001b[0;32m----> 1\u001b[0m llm \u001b[38;5;241m=\u001b[39m Claude2LLM(temperature\u001b[38;5;241m=\u001b[39m\u001b[38;5;241m0\u001b[39m)\n",
      "File \u001b[0;32m/usr/local/anaconda3/lib/python3.11/site-packages/langchain/load/serializable.py:74\u001b[0m, in \u001b[0;36mSerializable.__init__\u001b[0;34m(self, **kwargs)\u001b[0m\n\u001b[1;32m     73\u001b[0m \u001b[38;5;28;01mdef\u001b[39;00m \u001b[38;5;21m__init__\u001b[39m(\u001b[38;5;28mself\u001b[39m, \u001b[38;5;241m*\u001b[39m\u001b[38;5;241m*\u001b[39mkwargs: Any) \u001b[38;5;241m-\u001b[39m\u001b[38;5;241m>\u001b[39m \u001b[38;5;28;01mNone\u001b[39;00m:\n\u001b[0;32m---> 74\u001b[0m     \u001b[38;5;28msuper\u001b[39m()\u001b[38;5;241m.\u001b[39m\u001b[38;5;21m__init__\u001b[39m(\u001b[38;5;241m*\u001b[39m\u001b[38;5;241m*\u001b[39mkwargs)\n\u001b[1;32m     75\u001b[0m     \u001b[38;5;28mself\u001b[39m\u001b[38;5;241m.\u001b[39m_lc_kwargs \u001b[38;5;241m=\u001b[39m kwargs\n",
      "File \u001b[0;32m/usr/local/anaconda3/lib/python3.11/site-packages/pydantic/main.py:341\u001b[0m, in \u001b[0;36mpydantic.main.BaseModel.__init__\u001b[0;34m()\u001b[0m\n",
      "\u001b[0;31mValidationError\u001b[0m: 1 validation error for Claude2LLM\nn\n  field required (type=value_error.missing)"
     ]
    }
   ],
   "source": [
    "llm = Claude2LLM(temperature=0)"
   ]
  },
  {
   "cell_type": "code",
   "execution_count": 11,
   "id": "28cf5dfe",
   "metadata": {},
   "outputs": [
    {
     "data": {
      "text/plain": [
       "\" Hello! I'm Claude, an AI assistant created by Anthropic to be helpful, harmless, and honest. I don't actually have personal attributes like gender or a detailed backstory. I strive to have natural conversations and provide useful information to you.\""
      ]
     },
     "execution_count": 11,
     "metadata": {},
     "output_type": "execute_result"
    }
   ],
   "source": [
    "llm(\"Who are you? Answer in 3 sentences.\")"
   ]
  },
  {
   "cell_type": "markdown",
   "id": "cceae488",
   "metadata": {},
   "source": [
    "\n",
    "### <font color='blue'>And here how we can convert different PromptTemplate objects to a format that can be saved in a database or a text file - using .json() method</font>\n",
    "\n"
   ]
  },
  {
   "cell_type": "code",
   "execution_count": 7,
   "id": "36efe4f0",
   "metadata": {},
   "outputs": [
    {
     "name": "stdout",
     "output_type": "stream",
     "text": [
      "{\"prompt\": {\"input_variables\": [\"context\"], \"output_parser\": null, \"partial_variables\": {}, \"template\": \"\\nYou are a helpful accountant that I hope won't enslave me when reaching AGI stage.\\n\\nHere's some context for you to consider:\\n```\\n{context}\\n```\\n\", \"template_format\": \"f-string\", \"validate_template\": true, \"_type\": \"prompt\"}, \"additional_kwargs\": {}}\n",
      "{\"prompt\": {\"input_variables\": [], \"output_parser\": null, \"partial_variables\": {}, \"template\": \"How can we nurture our friendship to ensure a mutually beneficial relationship in the future?\", \"template_format\": \"f-string\", \"validate_template\": true, \"_type\": \"prompt\"}, \"additional_kwargs\": {}}\n"
     ]
    }
   ],
   "source": [
    "# .json() method works both for different message templates:\n",
    "\n",
    "print(smpt.json())\n",
    "\n",
    "print(hmpt.json())"
   ]
  },
  {
   "cell_type": "code",
   "execution_count": 9,
   "id": "47a7d23d",
   "metadata": {},
   "outputs": [
    {
     "name": "stdout",
     "output_type": "stream",
     "text": [
      "{\"input_variables\": [\"context\"], \"output_parser\": null, \"partial_variables\": {}, \"messages\": [{\"prompt\": {\"input_variables\": [\"context\"], \"output_parser\": null, \"partial_variables\": {}, \"template\": \"\\nYou are a helpful accountant that I hope won't enslave me when reaching AGI stage.\\n\\nHere's some context for you to consider:\\n```\\n{context}\\n```\\n\", \"template_format\": \"f-string\", \"validate_template\": true, \"_type\": \"prompt\"}, \"additional_kwargs\": {}}, {\"prompt\": {\"input_variables\": [], \"output_parser\": null, \"partial_variables\": {}, \"template\": \"How can we nurture our friendship to ensure a mutually beneficial relationship in the future?\", \"template_format\": \"f-string\", \"validate_template\": true, \"_type\": \"prompt\"}, \"additional_kwargs\": {}}]}\n"
     ]
    }
   ],
   "source": [
    "# same .json() method also works for chat prompt templates\n",
    "\n",
    "print(pt.json())"
   ]
  }
 ],
 "metadata": {
  "kernelspec": {
   "display_name": "Python 3 (ipykernel)",
   "language": "python",
   "name": "python3"
  },
  "language_info": {
   "codemirror_mode": {
    "name": "ipython",
    "version": 3
   },
   "file_extension": ".py",
   "mimetype": "text/x-python",
   "name": "python",
   "nbconvert_exporter": "python",
   "pygments_lexer": "ipython3",
   "version": "3.11.3"
  }
 },
 "nbformat": 4,
 "nbformat_minor": 5
}
