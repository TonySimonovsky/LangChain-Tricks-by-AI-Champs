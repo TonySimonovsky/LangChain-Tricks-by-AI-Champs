{
 "cells": [
  {
   "cell_type": "markdown",
   "id": "1cf1c1f3",
   "metadata": {},
   "source": [
    "# Overview\n",
    "\n",
    "**This is a showcase how to use LangChain multi-input tools and be able to have predictable answers from the agents using these tools.**"
   ]
  },
  {
   "cell_type": "markdown",
   "id": "06380a21",
   "metadata": {},
   "source": [
    "### <font color='gray'>Loading libraries and variables</font>"
   ]
  },
  {
   "cell_type": "code",
   "execution_count": 41,
   "id": "547144cf",
   "metadata": {},
   "outputs": [],
   "source": [
    "import os\n",
    "from dotenv import load_dotenv\n",
    "\n",
    "from pydantic import BaseModel, Field\n",
    "from typing import Optional, Union, List\n",
    "\n",
    "from langchain.chat_models import ChatOpenAI\n",
    "from langchain.agents import initialize_agent\n",
    "from langchain.chains.conversation.memory import ConversationBufferWindowMemory\n",
    "from langchain.prompts import ChatPromptTemplate\n",
    "from langchain.agents import AgentType\n",
    "from langchain.tools import StructuredTool"
   ]
  },
  {
   "cell_type": "code",
   "execution_count": 42,
   "id": "0958ec7d",
   "metadata": {},
   "outputs": [
    {
     "data": {
      "text/plain": [
       "True"
      ]
     },
     "execution_count": 42,
     "metadata": {},
     "output_type": "execute_result"
    }
   ],
   "source": [
    "# Loading OPENAI_API_KEY from .env file\n",
    "\n",
    "load_dotenv()"
   ]
  },
  {
   "cell_type": "markdown",
   "id": "cceae488",
   "metadata": {},
   "source": [
    "\n",
    "### <font color='blue'>Creating LangChain custom multi-input tool</font>\n",
    "\n"
   ]
  },
  {
   "cell_type": "code",
   "execution_count": 69,
   "id": "36efe4f0",
   "metadata": {},
   "outputs": [],
   "source": [
    "#\n",
    "# I'm creating this class to be used in args_schema parameter of my tool.\n",
    "#   args_schema is a required parameter for multi-input LangChain tools and recommended for single-input tools.\n",
    "#\n",
    "\n",
    "class ContentOverviewInput(BaseModel):\n",
    "    source_id: Optional[int] = Field(default=None)\n",
    "    topic_id: Optional[int] = Field(default=None)\n",
    "\n",
    "\n",
    "\n",
    "#\n",
    "# My multi-input tool class.\n",
    "#   Using StructuredTool is required for multi-input tools.\n",
    "#\n",
    "\n",
    "class ContentOverviewTool(StructuredTool):\n",
    "    name = \"Content overviewer\"\n",
    "    description = \"use this tool when you need to overview source identified by source_id using prompts that can be extracted using topic_id\"\n",
    "    args_schema: ContentOverviewInput = Field(default_factory=ContentOverviewInput)\n",
    "\n",
    "\n",
    "    def _run(\n",
    "        self,\n",
    "        topic_id: Union[int, List[int]],\n",
    "        source_id: Union[int, List[int]] = None,\n",
    "    ):\n",
    "\n",
    "        \n",
    "        # ...Here goes the actual code that is doing the work of the tool generating an observation\n",
    "        #    (that the agent using this tool will use when generating final answer)...\n",
    "\n",
    "        \n",
    "        # For the sake of the example I'll use a hard-coded observation\n",
    "        observation = \"Summary: The video discusses the concept of knowledge management and the limitations of relying solely on vector search in AI applications.\"\n",
    "        \n",
    "        \n",
    "        return observation"
   ]
  },
  {
   "cell_type": "markdown",
   "id": "d80a32f0",
   "metadata": {},
   "source": [
    "\n",
    "### <font color='gray'>Initializing</font>"
   ]
  },
  {
   "cell_type": "code",
   "execution_count": 71,
   "id": "47a7d23d",
   "metadata": {},
   "outputs": [],
   "source": [
    "llm = ChatOpenAI(model=\"gpt-3.5-turbo-16k\", temperature=0)\n",
    "\n",
    "# initialize conversational memory\n",
    "memory = ConversationBufferWindowMemory(\n",
    "    memory_key='chat_history',\n",
    "    k=5,\n",
    "    return_messages=True\n",
    ")"
   ]
  },
  {
   "cell_type": "code",
   "execution_count": 72,
   "id": "5c2b1753",
   "metadata": {},
   "outputs": [],
   "source": [
    "tools = [ContentOverviewTool()]\n",
    "\n",
    "# initialize agent with tools\n",
    "agent = initialize_agent(\n",
    "    agent=AgentType.STRUCTURED_CHAT_ZERO_SHOT_REACT_DESCRIPTION,\n",
    "    tools=tools,\n",
    "    llm=llm,\n",
    "    verbose=True,\n",
    "    max_iterations=3,\n",
    "    early_stopping_method='generate',\n",
    "    memory=memory\n",
    ")"
   ]
  },
  {
   "cell_type": "markdown",
   "id": "59852864",
   "metadata": {},
   "source": [
    "\n",
    "### <font color='gray'>Calling our agent</font>"
   ]
  },
  {
   "cell_type": "code",
   "execution_count": 73,
   "id": "4a6f9bfe",
   "metadata": {},
   "outputs": [
    {
     "name": "stdout",
     "output_type": "stream",
     "text": [
      "\n",
      "\n",
      "\u001b[1m> Entering new AgentExecutor chain...\u001b[0m\n",
      "\u001b[32;1m\u001b[1;3mAction: \n",
      "```\n",
      "{\n",
      "  \"action\": \"Content overviewer\",\n",
      "  \"action_input\": {\n",
      "    \"source_id\": 46,\n",
      "    \"topic_id\": 8\n",
      "  }\n",
      "}\n",
      "```\u001b[0m\n",
      "Observation: \u001b[36;1m\u001b[1;3mSummary: The video discusses the concept of knowledge management and the limitations of relying solely on vector search in AI applications.\u001b[0m\n",
      "Thought:\u001b[32;1m\u001b[1;3mI need to use the content overviewer tool to summarize source 46 using the tools from topic 8. \n",
      "Action: \n",
      "```\n",
      "{\n",
      "  \"action\": \"Content overviewer\",\n",
      "  \"action_input\": {\n",
      "    \"source_id\": 46,\n",
      "    \"topic_id\": 8\n",
      "  }\n",
      "}\n",
      "```\u001b[0m\n",
      "Observation: \u001b[36;1m\u001b[1;3mSummary: The video discusses the concept of knowledge management and the limitations of relying solely on vector search in AI applications.\u001b[0m\n",
      "Thought:\u001b[32;1m\u001b[1;3mI have used the content overviewer tool to summarize source 46 using the tools from topic 8. The summary of the video is as follows: The video discusses the concept of knowledge management and the limitations of relying solely on vector search in AI applications.\u001b[0m\n",
      "\n",
      "\u001b[1m> Finished chain.\u001b[0m\n"
     ]
    }
   ],
   "source": [
    "r = agent(\"Summarise source 46 using the tools from 8\")"
   ]
  },
  {
   "cell_type": "markdown",
   "id": "190a4a6a",
   "metadata": {},
   "source": [
    "\n",
    "### <font color='blue'>**Good result, but...**</font>\n",
    "\n",
    "**But what if we need the agent to give us the exact answer it received rorm the tool without additional comments of the agent?** 🤔\n"
   ]
  },
  {
   "cell_type": "markdown",
   "id": "6eea46c2",
   "metadata": {},
   "source": [
    "\n",
    "### <font color='blue'>Updating our tool to have more predictable answers from the agents using it</font>\n",
    "\n",
    "The only change I make here compared to the version of ContentOverviewTool above, is adding instruction to the output of the tool."
   ]
  },
  {
   "cell_type": "code",
   "execution_count": 74,
   "id": "639aca8f",
   "metadata": {},
   "outputs": [],
   "source": [
    "class ContentOverviewTool(StructuredTool):\n",
    "    name = \"Content overviewer\"\n",
    "    description = \"use this tool when you need to overview source identified by source_id using prompts that can be extracted using topic_id\"\n",
    "    args_schema: ContentOverviewInput = Field(default_factory=ContentOverviewInput)\n",
    "\n",
    "\n",
    "    def _run(\n",
    "        self,\n",
    "        topic_id: Union[int, List[int]],\n",
    "        source_id: Union[int, List[int]] = None,\n",
    "    ):\n",
    "\n",
    "        \n",
    "        # ...Here goes the actual code that is doing the work of the tool generating an observation\n",
    "        #    (that the agent using this tool will use when generating final answer)...\n",
    "\n",
    "        \n",
    "        # For the sake of the example I'll use a hard-coded observation\n",
    "        observation = \"Summary: The video discusses the concept of knowledge management and the limitations of relying solely on vector search in AI applications.\"\n",
    "\n",
    "        # Adding instruction to the returned value of the tool is important\n",
    "        #   if I want predictable format of the answer from the agent using this tool\n",
    "        instruction = \"Only answer with the summary above as is, word-for-word. Do not add comments or notes about what has been done and what is the result. Do not explain the work done or the results achieved. Only output the actual summary above and not a single character more.\" #\"Explain this like to a 5 year old. Do not add anything else to your answer.\"\n",
    "        \n",
    "        \n",
    "        return f\"{observation} {instruction}\""
   ]
  },
  {
   "cell_type": "code",
   "execution_count": 75,
   "id": "5057ca6a",
   "metadata": {},
   "outputs": [],
   "source": [
    "tools = [ContentOverviewTool()]\n",
    "\n",
    "# initialize agent with tools\n",
    "agent = initialize_agent(\n",
    "    agent=AgentType.STRUCTURED_CHAT_ZERO_SHOT_REACT_DESCRIPTION,\n",
    "    tools=tools,\n",
    "    llm=llm,\n",
    "    verbose=True,\n",
    "    max_iterations=3,\n",
    "    early_stopping_method='generate',\n",
    "    memory=memory\n",
    ")"
   ]
  },
  {
   "cell_type": "code",
   "execution_count": 76,
   "id": "ff0e7acc",
   "metadata": {},
   "outputs": [
    {
     "name": "stdout",
     "output_type": "stream",
     "text": [
      "\n",
      "\n",
      "\u001b[1m> Entering new AgentExecutor chain...\u001b[0m\n",
      "\u001b[32;1m\u001b[1;3mAction:\n",
      "```\n",
      "{\n",
      "  \"action\": \"Content overviewer\",\n",
      "  \"action_input\": {\n",
      "    \"source_id\": 46,\n",
      "    \"topic_id\": 8\n",
      "  }\n",
      "}\n",
      "```\u001b[0m\n",
      "Observation: \u001b[36;1m\u001b[1;3mSummary: The video discusses the concept of knowledge management and the limitations of relying solely on vector search in AI applications. Only answer with the summary above as is, word-for-word. Do not add comments or notes about what has been done and what is the result. Do not explain the work done or the results achieved. Only output the actual summary above and not a single character more.\u001b[0m\n",
      "Thought:\u001b[32;1m\u001b[1;3mI will use the Content overviewer tool to summarize source 46 using the prompts from topic 8.\n",
      "\n",
      "Action:\n",
      "```\n",
      "{\n",
      "  \"action\": \"Content overviewer\",\n",
      "  \"action_input\": {\n",
      "    \"source_id\": 46,\n",
      "    \"topic_id\": 8\n",
      "  }\n",
      "}\n",
      "```\n",
      "\n",
      "\u001b[0m\n",
      "Observation: \u001b[36;1m\u001b[1;3mSummary: The video discusses the concept of knowledge management and the limitations of relying solely on vector search in AI applications. Only answer with the summary above as is, word-for-word. Do not add comments or notes about what has been done and what is the result. Do not explain the work done or the results achieved. Only output the actual summary above and not a single character more.\u001b[0m\n",
      "Thought:\u001b[32;1m\u001b[1;3mThe summary of source 46 using the prompts from topic 8 is as follows:\n",
      "\n",
      "\"The video discusses the concept of knowledge management and the limitations of relying solely on vector search in AI applications.\"\u001b[0m\n",
      "\n",
      "\u001b[1m> Finished chain.\u001b[0m\n"
     ]
    }
   ],
   "source": [
    "r = agent(\"Summarise source 46 using the tools from 8\")"
   ]
  },
  {
   "cell_type": "markdown",
   "id": "df2b7308",
   "metadata": {},
   "source": [
    "\n",
    "### <font color='blue'>Great, now my tool can control agents' answers!</font> 😈\n"
   ]
  }
 ],
 "metadata": {
  "kernelspec": {
   "display_name": "Python 3 (ipykernel)",
   "language": "python",
   "name": "python3"
  },
  "language_info": {
   "codemirror_mode": {
    "name": "ipython",
    "version": 3
   },
   "file_extension": ".py",
   "mimetype": "text/x-python",
   "name": "python",
   "nbconvert_exporter": "python",
   "pygments_lexer": "ipython3",
   "version": "3.11.3"
  }
 },
 "nbformat": 4,
 "nbformat_minor": 5
}
